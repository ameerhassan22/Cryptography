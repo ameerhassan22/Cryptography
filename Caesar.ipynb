{
 "cells": [
  {
   "cell_type": "markdown",
   "id": "48616e43",
   "metadata": {},
   "source": [
    "# Caesar Cipher Algorithm\n"
   ]
  },
  {
   "cell_type": "code",
   "execution_count": 1,
   "id": "0fc24205",
   "metadata": {},
   "outputs": [],
   "source": [
    "class Caesar:\n",
    "    def __init__(self, shift):\n",
    "        self.shift = shift % 26\n",
    "        \n",
    "    def encrypt(self, plaintext):\n",
    "        ciphertext = \"\"\n",
    "        for char in plaintext:\n",
    "            if char.isalpha():\n",
    "                if char.isupper():\n",
    "                    ciphertext += chr((ord(char) + self.shift - 65) % 26 + 65)\n",
    "                else:\n",
    "                    ciphertext += chr((ord(char) + self.shift - 97) % 26 + 97)\n",
    "            else:\n",
    "                ciphertext += char\n",
    "        return ciphertext\n",
    "    \n",
    "    def decrypt(self, ciphertext):\n",
    "        plaintext = \"\"\n",
    "        for char in ciphertext:\n",
    "            if char.isalpha():\n",
    "                if char.isupper():\n",
    "                    plaintext += chr((ord(char) - self.shift - 65) % 26 + 65)\n",
    "                else:\n",
    "                    plaintext += chr((ord(char) - self.shift - 97) % 26 + 97)\n",
    "            else:\n",
    "                plaintext += char\n",
    "        return plaintext\n"
   ]
  },
  {
   "cell_type": "code",
   "execution_count": 2,
   "id": "ff42252d",
   "metadata": {},
   "outputs": [
    {
     "name": "stdout",
     "output_type": "stream",
     "text": [
      "Enter word Encrypt or Decrypt\n",
      "hello\n",
      "Enter key to  Encrypt or Decrypt , key is range 1 to 25\n",
      "15\n",
      "wtaad\n",
      "hello\n"
     ]
    }
   ],
   "source": [
    "# input of word and key to Encrypt or Decrypt\n",
    "plaintext =input(\"Enter word Encrypt or Decrypt\\n\") \n",
    "key = int(input(\"Enter key to  Encrypt or Decrypt , key is range 1 to 25\\n\") ) \n",
    "# call Caesar class to process  and passes key  and call method in Caesar class\n",
    "cipher = Caesar(key)\n",
    "ciphertext = cipher.encrypt(plaintext)\n",
    "print(ciphertext)  \n",
    "decrypted_text = cipher.decrypt(ciphertext)\n",
    "print(decrypted_text)"
   ]
  },
  {
   "cell_type": "code",
   "execution_count": null,
   "id": "270206ed",
   "metadata": {},
   "outputs": [],
   "source": []
  }
 ],
 "metadata": {
  "kernelspec": {
   "display_name": "Python 3 (ipykernel)",
   "language": "python",
   "name": "python3"
  },
  "language_info": {
   "codemirror_mode": {
    "name": "ipython",
    "version": 3
   },
   "file_extension": ".py",
   "mimetype": "text/x-python",
   "name": "python",
   "nbconvert_exporter": "python",
   "pygments_lexer": "ipython3",
   "version": "3.9.13"
  }
 },
 "nbformat": 4,
 "nbformat_minor": 5
}
