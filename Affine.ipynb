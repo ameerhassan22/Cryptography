{
 "cells": [
  {
   "cell_type": "markdown",
   "id": "f4294a89",
   "metadata": {},
   "source": [
    "# Affine Cipher Algorithm\n"
   ]
  },
  {
   "cell_type": "code",
   "execution_count": 3,
   "id": "3160f932",
   "metadata": {},
   "outputs": [],
   "source": [
    "class Affine:\n",
    "    def __init__(self, key_a, key_b):\n",
    "        self.key_a = key_a\n",
    "        self.key_b = key_b\n",
    "\n",
    "    def encrypt(self, plaintext):\n",
    "        ciphertext = \"\"\n",
    "        for char in plaintext:\n",
    "            if char.isalpha():\n",
    "                # Convert character to its numerical equivalent (A=0, B=1, etc.)\n",
    "                char_num = ord(char.upper()) - 65\n",
    "                # Apply encryption formula: c = (a * p + b) mod 26\n",
    "                encrypted_num = (self.key_a * char_num + self.key_b) % 26\n",
    "                # Convert numerical result back to character\n",
    "                encrypted_char = chr(encrypted_num + 65)\n",
    "                ciphertext += encrypted_char\n",
    "            else:\n",
    "                # Non-alphabetic characters are ignored\n",
    "                ciphertext += char\n",
    "        return ciphertext\n",
    "\n",
    "    def decrypt(self, ciphertext):\n",
    "        plaintext = \"\"\n",
    "        # Find the modular multiplicative inverse of key_a\n",
    "        inverse_key_a = None\n",
    "        for i in range(26):\n",
    "            if (i * self.key_a) % 26 == 1:\n",
    "                inverse_key_a = i\n",
    "                break\n",
    "        if inverse_key_a is None:\n",
    "            # Key is not valid (has no modular multiplicative inverse)\n",
    "            return None\n",
    "        for char in ciphertext:\n",
    "            if char.isalpha():\n",
    "                # Convert character to its numerical equivalent (A=0, B=1, etc.)\n",
    "                char_num = ord(char.upper()) - 65\n",
    "                # Apply decryption formula: p = inverse_a * (c - b) mod 26\n",
    "                decrypted_num = (inverse_key_a * (char_num - self.key_b)) % 26\n",
    "                # Convert numerical result back to character\n",
    "                decrypted_char = chr(decrypted_num + 65)\n",
    "                plaintext += decrypted_char\n",
    "            else:\n",
    "                # Non-alphabetic characters are ignored\n",
    "                plaintext += char\n",
    "        return plaintext"
   ]
  },
  {
   "cell_type": "code",
   "execution_count": 4,
   "id": "69073486",
   "metadata": {},
   "outputs": [
    {
     "name": "stdout",
     "output_type": "stream",
     "text": [
      "Enter word Encrypt or Decrypt\n",
      "hello\n",
      "Enter key to  Encrypt or Decrypt , key is range 1 to 25\n",
      "7\n",
      "Enter key to  Encrypt or Decrypt , key is range 1 to 25\n",
      "2\n",
      "ZEBBW\n",
      "HELLO\n"
     ]
    }
   ],
   "source": [
    "# input of word and key to Encrypt or Decrypt\n",
    "plaintext =input(\"Enter word Encrypt or Decrypt\\n\") \n",
    "key1 = int(input(\"Enter key to  Encrypt or Decrypt , key is range 1 to 25\\n\") ) \n",
    "key2 = int(input(\"Enter key to  Encrypt or Decrypt , key is range 1 to 25\\n\") ) \n",
    "\n",
    "# call Affine class to process  and passes key  and call method in Affine class\n",
    "cipher = Affine(key1,key2)\n",
    "ciphertext = cipher.encrypt(plaintext)\n",
    "print(ciphertext)  \n",
    "decrypted_text = cipher.decrypt(ciphertext)\n",
    "print(decrypted_text)"
   ]
  },
  {
   "cell_type": "code",
   "execution_count": null,
   "id": "be30169c",
   "metadata": {},
   "outputs": [],
   "source": []
  }
 ],
 "metadata": {
  "kernelspec": {
   "display_name": "Python 3 (ipykernel)",
   "language": "python",
   "name": "python3"
  },
  "language_info": {
   "codemirror_mode": {
    "name": "ipython",
    "version": 3
   },
   "file_extension": ".py",
   "mimetype": "text/x-python",
   "name": "python",
   "nbconvert_exporter": "python",
   "pygments_lexer": "ipython3",
   "version": "3.9.13"
  }
 },
 "nbformat": 4,
 "nbformat_minor": 5
}
