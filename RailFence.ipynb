{
 "cells": [
  {
   "cell_type": "markdown",
   "id": "f4294a89",
   "metadata": {},
   "source": [
    "# Rail Fence Cipher Algorithm\n"
   ]
  },
  {
   "cell_type": "code",
   "execution_count": 1,
   "id": "3160f932",
   "metadata": {},
   "outputs": [],
   "source": [
    "class RailFence:\n",
    "    def __init__(self, key):\n",
    "        self.key = key\n",
    "\n",
    "    def encrypt(self, plaintext):\n",
    "        # Create the fence\n",
    "        fence = [['\\n' for i in range(len(plaintext))] for j in range(self.key)]\n",
    "        # Populate the fence\n",
    "        direction = -1  # Direction flag for zigzag pattern\n",
    "        row = 0\n",
    "        for i in range(len(plaintext)):\n",
    "            fence[row][i] = plaintext[i]\n",
    "            if row == 0 or row == self.key - 1:\n",
    "                direction = -direction\n",
    "            row += direction\n",
    "        # Read the fence as the ciphertext\n",
    "        ciphertext = \"\"\n",
    "        for i in range(self.key):\n",
    "            for j in range(len(plaintext)):\n",
    "                if fence[i][j] != '\\n':\n",
    "                    ciphertext += fence[i][j]\n",
    "        return ciphertext\n",
    "\n",
    "    def decrypt(self, ciphertext):\n",
    "        # Create the fence\n",
    "        fence = [['\\n' for i in range(len(ciphertext))] for j in range(self.key)]\n",
    "        # Populate the fence with placeholders\n",
    "        direction = -1  # Direction flag for zigzag pattern\n",
    "        row = 0\n",
    "        for i in range(len(ciphertext)):\n",
    "            fence[row][i] = '*'\n",
    "            if row == 0 or row == self.key - 1:\n",
    "                direction = -direction\n",
    "            row += direction\n",
    "        # Replace placeholders with ciphertext characters\n",
    "        index = 0\n",
    "        for i in range(self.key):\n",
    "            for j in range(len(ciphertext)):\n",
    "                if fence[i][j] == '*' and index < len(ciphertext):\n",
    "                    fence[i][j] = ciphertext[index]\n",
    "                    index += 1\n",
    "        # Read the fence as the plaintext\n",
    "        plaintext = \"\"\n",
    "        direction = -1  # Direction flag for zigzag pattern\n",
    "        row = 0\n",
    "        for i in range(len(ciphertext)):\n",
    "            plaintext += fence[row][i]\n",
    "            if row == 0 or row == self.key - 1:\n",
    "                direction = -direction\n",
    "            row += direction\n",
    "        return plaintext"
   ]
  },
  {
   "cell_type": "code",
   "execution_count": 2,
   "id": "69073486",
   "metadata": {},
   "outputs": [
    {
     "name": "stdout",
     "output_type": "stream",
     "text": [
      "Enter word Encrypt or Decrypt\n",
      "UNIVERSITY\n",
      "Enter the key to Encrypt or Decrypt\n",
      "2\n",
      "UIESTNVRIY\n",
      "UNIVERSITY\n"
     ]
    }
   ],
   "source": [
    "# input of word and key to Encrypt or Decrypt\n",
    "plaintext =input(\"Enter word Encrypt or Decrypt\\n\") \n",
    "key = int(input(\"Enter the key to Encrypt or Decrypt\\n\"))\n",
    "# call RailFence class to process  and passes key  and call method in RailFence class\n",
    "cipher = RailFence(key)\n",
    "ciphertext = cipher.encrypt(plaintext)\n",
    "print(ciphertext)   \n",
    "decrypted_text = cipher.decrypt(ciphertext)\n",
    "print(decrypted_text)  "
   ]
  },
  {
   "cell_type": "code",
   "execution_count": null,
   "id": "be30169c",
   "metadata": {},
   "outputs": [],
   "source": []
  }
 ],
 "metadata": {
  "kernelspec": {
   "display_name": "Python 3 (ipykernel)",
   "language": "python",
   "name": "python3"
  },
  "language_info": {
   "codemirror_mode": {
    "name": "ipython",
    "version": 3
   },
   "file_extension": ".py",
   "mimetype": "text/x-python",
   "name": "python",
   "nbconvert_exporter": "python",
   "pygments_lexer": "ipython3",
   "version": "3.9.13"
  }
 },
 "nbformat": 4,
 "nbformat_minor": 5
}
