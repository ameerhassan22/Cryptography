{
 "cells": [
  {
   "cell_type": "markdown",
   "id": "f4294a89",
   "metadata": {},
   "source": [
    "# Vigenere Cipher Algorithm\n"
   ]
  },
  {
   "cell_type": "code",
   "execution_count": 3,
   "id": "3160f932",
   "metadata": {},
   "outputs": [],
   "source": [
    "class Vigenere:\n",
    "    def __init__(self, key):\n",
    "        self.key = key\n",
    "\n",
    "    def encrypt(self, plaintext):\n",
    "        ciphertext = \"\"\n",
    "        key_len = len(self.key)\n",
    "        for i in range(len(plaintext)):\n",
    "            if plaintext[i].isalpha():\n",
    "                # Convert character to its numerical equivalent (A=0, B=1, etc.)\n",
    "                char_num = ord(plaintext[i].upper()) - 65\n",
    "                key_char_num = ord(self.key[i % key_len].upper()) - 65\n",
    "                # Apply encryption formula: c = (p + k) mod 26\n",
    "                encrypted_num = (char_num + key_char_num) % 26\n",
    "                # Convert numerical result back to character\n",
    "                encrypted_char = chr(encrypted_num + 65)\n",
    "                ciphertext += encrypted_char\n",
    "            else:\n",
    "                # Non-alphabetic characters are ignored\n",
    "                ciphertext += plaintext[i]\n",
    "        return ciphertext\n",
    "\n",
    "    def decrypt(self, ciphertext):\n",
    "        plaintext = \"\"\n",
    "        key_len = len(self.key)\n",
    "        for i in range(len(ciphertext)):\n",
    "            if ciphertext[i].isalpha():\n",
    "                # Convert character to its numerical equivalent (A=0, B=1, etc.)\n",
    "                char_num = ord(ciphertext[i].upper()) - 65\n",
    "                key_char_num = ord(self.key[i % key_len].upper()) - 65\n",
    "                # Apply decryption formula: p = (c - k) mod 26\n",
    "                decrypted_num = (char_num - key_char_num) % 26\n",
    "                # Convert numerical result back to character\n",
    "                decrypted_char = chr(decrypted_num + 65)\n",
    "                plaintext += decrypted_char\n",
    "            else:\n",
    "                # Non-alphabetic characters are ignored\n",
    "                plaintext += ciphertext[i]\n",
    "        return plaintext"
   ]
  },
  {
   "cell_type": "code",
   "execution_count": 4,
   "id": "69073486",
   "metadata": {},
   "outputs": [
    {
     "name": "stdout",
     "output_type": "stream",
     "text": [
      "Enter word Encrypt or Decrypt\n",
      "THISPR\n",
      "Enter word to  Encrypt or Decrypt\n",
      "CIPHER\n",
      "VPXZTI\n",
      "THISPR\n"
     ]
    }
   ],
   "source": [
    "# input of word and key to Encrypt or Decrypt\n",
    "plaintext =input(\"Enter word Encrypt or Decrypt\\n\") \n",
    "key = input(\"Enter word to  Encrypt or Decrypt\\n\") \n",
    "# call Vigenere class to process  and passes key  and call method in Vigenere class\n",
    "cipher = Vigenere(key)\n",
    "ciphertext = cipher.encrypt(plaintext)\n",
    "print(ciphertext)   \n",
    "decrypted_text = cipher.decrypt(ciphertext)\n",
    "print(decrypted_text)   "
   ]
  },
  {
   "cell_type": "code",
   "execution_count": null,
   "id": "be30169c",
   "metadata": {},
   "outputs": [],
   "source": []
  }
 ],
 "metadata": {
  "kernelspec": {
   "display_name": "Python 3 (ipykernel)",
   "language": "python",
   "name": "python3"
  },
  "language_info": {
   "codemirror_mode": {
    "name": "ipython",
    "version": 3
   },
   "file_extension": ".py",
   "mimetype": "text/x-python",
   "name": "python",
   "nbconvert_exporter": "python",
   "pygments_lexer": "ipython3",
   "version": "3.9.13"
  }
 },
 "nbformat": 4,
 "nbformat_minor": 5
}
