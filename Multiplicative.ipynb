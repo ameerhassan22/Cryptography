{
 "cells": [
  {
   "cell_type": "markdown",
   "id": "f4294a89",
   "metadata": {},
   "source": [
    "# Multiplicative Cipher Algorithm\n"
   ]
  },
  {
   "cell_type": "code",
   "execution_count": 10,
   "id": "3160f932",
   "metadata": {},
   "outputs": [],
   "source": [
    "class Multiplicative:\n",
    "    def __init__(self, key):\n",
    "        self.key = key\n",
    "\n",
    "    def encrypt(self, plaintext):\n",
    "        ciphertext = \"\"\n",
    "        for char in plaintext:\n",
    "            if char.isalpha():\n",
    "                # Convert character to its numerical equivalent (A=0, B=1, etc.)\n",
    "                char_num = ord(char.upper()) - 65\n",
    "                # Apply encryption formula: c = (p * key) mod 26\n",
    "                encrypted_num = (char_num * self.key) % 26\n",
    "                # Convert numerical result back to character\n",
    "                encrypted_char = chr(encrypted_num + 65)\n",
    "                ciphertext += encrypted_char\n",
    "            else:\n",
    "                # Non-alphabetic characters are ignored\n",
    "                ciphertext += char\n",
    "        return ciphertext\n",
    "\n",
    "    def decrypt(self, ciphertext):\n",
    "        plaintext = \"\"\n",
    "        # Find the modular multiplicative inverse of the key\n",
    "        inverse_key = None\n",
    "        for i in range(26):\n",
    "            if (i * self.key) % 26 == 1:\n",
    "                inverse_key = i\n",
    "                break\n",
    "        if inverse_key is None:\n",
    "            # Key is not valid (has no modular multiplicative inverse)\n",
    "            return None\n",
    "        for char in ciphertext:\n",
    "            if char.isalpha():\n",
    "                # Convert character to its numerical equivalent (A=0, B=1, etc.)\n",
    "                char_num = ord(char.upper()) - 65\n",
    "                # Apply decryption formula: p = (c * inverse_key) mod 26\n",
    "                decrypted_num = (char_num * inverse_key) % 26\n",
    "                # Convert numerical result back to character\n",
    "                decrypted_char = chr(decrypted_num + 65)\n",
    "                plaintext += decrypted_char\n",
    "            else:\n",
    "                # Non-alphabetic characters are ignored\n",
    "                plaintext += char\n",
    "        return plaintext\n"
   ]
  },
  {
   "cell_type": "code",
   "execution_count": 11,
   "id": "4d53386a",
   "metadata": {},
   "outputs": [
    {
     "name": "stdout",
     "output_type": "stream",
     "text": [
      "Enter word Encrypt or Decrypt\n",
      "secret\n",
      "Enter key to  Encrypt or Decrypt , key is range 1 to 25\n",
      "9\n",
      "GKSXKP\n",
      "SECRET\n"
     ]
    }
   ],
   "source": [
    "# input of word and key to Encrypt or Decrypt\n",
    "plaintext =input(\"Enter word Encrypt or Decrypt\\n\") \n",
    "key = int(input(\"Enter key to  Encrypt or Decrypt , key is range 1 to 25\\n\")) \n",
    "# call Multiplicative class to process  and passes key  and call method in Multiplicative class\n",
    "cipher = Multiplicative(key)\n",
    "ciphertext = cipher.encrypt(plaintext)\n",
    "print(ciphertext)  \n",
    "decrypted_text = cipher.decrypt(ciphertext)\n",
    "print(decrypted_text)   "
   ]
  },
  {
   "cell_type": "code",
   "execution_count": null,
   "id": "5096ee1e",
   "metadata": {},
   "outputs": [],
   "source": []
  }
 ],
 "metadata": {
  "kernelspec": {
   "display_name": "Python 3 (ipykernel)",
   "language": "python",
   "name": "python3"
  },
  "language_info": {
   "codemirror_mode": {
    "name": "ipython",
    "version": 3
   },
   "file_extension": ".py",
   "mimetype": "text/x-python",
   "name": "python",
   "nbconvert_exporter": "python",
   "pygments_lexer": "ipython3",
   "version": "3.9.13"
  }
 },
 "nbformat": 4,
 "nbformat_minor": 5
}
