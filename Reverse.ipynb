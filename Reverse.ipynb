{
 "cells": [
  {
   "cell_type": "markdown",
   "id": "f4294a89",
   "metadata": {},
   "source": [
    "# Reverse Cipher Algorithm\n"
   ]
  },
  {
   "cell_type": "code",
   "execution_count": 2,
   "id": "3160f932",
   "metadata": {},
   "outputs": [],
   "source": [
    " class Reverse:\n",
    "    def encrypt(self, plaintext):\n",
    "        ciphertext = plaintext[::-1]  # Reverse the plaintext\n",
    "        return ciphertext\n",
    "\n",
    "    def decrypt(self, ciphertext):\n",
    "        plaintext = ciphertext[::-1]  # Reverse the ciphertext\n",
    "        return plaintext\n"
   ]
  },
  {
   "cell_type": "code",
   "execution_count": 4,
   "id": "69073486",
   "metadata": {},
   "outputs": [
    {
     "name": "stdout",
     "output_type": "stream",
     "text": [
      "Enter word Encrypt or Decrypt\n",
      "he\n",
      "eh\n",
      "he\n"
     ]
    }
   ],
   "source": [
    "# input of word and key to Encrypt or Decrypt\n",
    "plaintext =input(\"Enter word Encrypt or Decrypt\\n\") \n",
    " \n",
    "# call Reverse class to process  and passes key  and call method in Reverse class\n",
    "cipher = Reverse()\n",
    "ciphertext = cipher.encrypt(plaintext)\n",
    "print(ciphertext)   \n",
    "decrypted_text = cipher.decrypt(ciphertext)\n",
    "print(decrypted_text)   "
   ]
  },
  {
   "cell_type": "code",
   "execution_count": null,
   "id": "be30169c",
   "metadata": {},
   "outputs": [],
   "source": []
  }
 ],
 "metadata": {
  "kernelspec": {
   "display_name": "Python 3 (ipykernel)",
   "language": "python",
   "name": "python3"
  },
  "language_info": {
   "codemirror_mode": {
    "name": "ipython",
    "version": 3
   },
   "file_extension": ".py",
   "mimetype": "text/x-python",
   "name": "python",
   "nbconvert_exporter": "python",
   "pygments_lexer": "ipython3",
   "version": "3.9.13"
  }
 },
 "nbformat": 4,
 "nbformat_minor": 5
}
